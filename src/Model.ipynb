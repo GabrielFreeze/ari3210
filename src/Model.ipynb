{
 "cells": [
  {
   "cell_type": "markdown",
   "id": "b667ff73",
   "metadata": {},
   "source": [
    "# ARI 3210"
   ]
  },
  {
   "cell_type": "code",
   "execution_count": 1,
   "id": "170593d0",
   "metadata": {
    "ExecuteTime": {
     "end_time": "2022-12-14T17:42:32.945320Z",
     "start_time": "2022-12-14T17:42:32.930320Z"
    }
   },
   "outputs": [
    {
     "data": {
      "text/html": [
       "<style type='text/css'>\n",
       ".CodeMirror{\n",
       "font-family: JetBrains Mono;\n",
       "</style>\n"
      ],
      "text/plain": [
       "<IPython.core.display.HTML object>"
      ]
     },
     "metadata": {},
     "output_type": "display_data"
    }
   ],
   "source": [
    "%%html\n",
    "<style type='text/css'>\n",
    ".CodeMirror{\n",
    "font-family: JetBrains Mono;\n",
    "</style>"
   ]
  },
  {
   "cell_type": "code",
   "execution_count": 2,
   "id": "533dfec0",
   "metadata": {
    "ExecuteTime": {
     "end_time": "2022-12-14T17:42:34.884068Z",
     "start_time": "2022-12-14T17:42:32.947319Z"
    }
   },
   "outputs": [],
   "source": [
    "import os\n",
    "import torch\n",
    "import torchvision\n",
    "import numpy as np\n",
    "import pandas as pd\n",
    "import torch.nn as nn\n",
    "import matplotlib.pyplot as plt\n",
    "\n",
    "from torchvision import datasets, transforms\n",
    "from sklearn.model_selection import train_test_split\n",
    "from torch.utils.data.dataloader import default_collate\n",
    "\n",
    "device = 'cuda:0' if torch.cuda.is_available() else 'cpu'"
   ]
  },
  {
   "cell_type": "code",
   "execution_count": 3,
   "id": "e6639b17",
   "metadata": {
    "ExecuteTime": {
     "end_time": "2022-12-14T17:42:34.899069Z",
     "start_time": "2022-12-14T17:42:34.886069Z"
    }
   },
   "outputs": [],
   "source": [
    "#Show an image from the dataloader\n",
    "def imshow(img):\n",
    "    img = img/2 +0.5\n",
    "    plt.imshow(np.transpose(img.cpu().numpy(), (1,2,0)))\n",
    "    plt.show()"
   ]
  },
  {
   "cell_type": "markdown",
   "id": "9bc566f8",
   "metadata": {},
   "source": [
    "## Defining Model"
   ]
  },
  {
   "cell_type": "code",
   "execution_count": 4,
   "id": "e740ae19",
   "metadata": {
    "ExecuteTime": {
     "end_time": "2022-12-14T17:42:35.170067Z",
     "start_time": "2022-12-14T17:42:34.900069Z"
    }
   },
   "outputs": [],
   "source": [
    "batch_size = 2\n",
    "num_workers = 2\n",
    "train_folder = os.path.join('..', 'data', 'train')\n",
    "val_folder = os.path.join('..', 'data', 'val')\n",
    "test_folder = os.path.join('..', 'data', 'test')\n",
    "\n",
    "speakers = [speaker for speaker in os.listdir(train_folder)]\n",
    "num_speakers = len(speakers)\n",
    "\n",
    "\n",
    "transform = transforms.Compose([transforms.Grayscale(),\n",
    "                                transforms.ToTensor(),\n",
    "                                transforms.Normalize(0.5, 0.5)])\n",
    "\n",
    "#Train Loader\n",
    "train_loader = torch.utils.data.DataLoader(\n",
    "    datasets.ImageFolder(train_folder, transform=transform),\n",
    "    batch_size=batch_size,\n",
    "    shuffle=True, drop_last=True,\n",
    "    num_workers=num_workers)\n",
    "\n",
    "#Validate Loader\n",
    "val_loader = torch.utils.data.DataLoader(\n",
    "    datasets.ImageFolder(val_folder, transform=transform),\n",
    "    batch_size=batch_size,\n",
    "    shuffle=False, num_workers=num_workers)\n",
    "\n",
    "#Test Loader\n",
    "test_loader = torch.utils.data.DataLoader(\n",
    "    datasets.ImageFolder(test_folder, transform=transform),\n",
    "    batch_size=batch_size,\n",
    "    shuffle=False, num_workers=num_workers)"
   ]
  },
  {
   "cell_type": "code",
   "execution_count": 12,
   "id": "a4172437",
   "metadata": {
    "ExecuteTime": {
     "end_time": "2022-12-14T17:45:52.474107Z",
     "start_time": "2022-12-14T17:45:52.452709Z"
    },
    "code_folding": [
     16
    ]
   },
   "outputs": [],
   "source": [
    "class Model(nn.Module):\n",
    "\n",
    "    def __init__(self, hidden_size: int, num_speakers: int, k:int):\n",
    "        super(Model, self).__init__()\n",
    "        \n",
    "        self.k = k\n",
    "        self.hidden_size = hidden_size\n",
    "        \n",
    "        #Convolutional Layers.\n",
    "        self.conv1 = nn.Sequential(\n",
    "                           nn.Conv2d(1, 8, kernel_size=k, stride=1,\n",
    "                                    padding=1, device=device),\n",
    "                           nn.ReLU(),\n",
    "                           nn.MaxPool2d(kernel_size=2, stride=2),\n",
    "                           nn.Dropout(p=0.2))     \n",
    "        self.conv2 = nn.Sequential(\n",
    "                           nn.Conv2d(8, 16, kernel_size=k, stride=1,\n",
    "                                     padding=1, device=device),\n",
    "                           nn.ReLU(),\n",
    "                           nn.MaxPool2d(kernel_size=2, stride=2),\n",
    "                           nn.Dropout(p=0.5))        \n",
    "        \n",
    "        # LSTM Layer.\n",
    "        self.lstm = nn.LSTM(hidden_size*12*9, hidden_size, device=device)\n",
    "\n",
    "        # Final Layer.\n",
    "        self.fc = nn.Linear(hidden_size, num_speakers, device=device)\n",
    "        \n",
    "    def forward(self, x):\n",
    "        \n",
    "        #Convolute\n",
    "        x = self.conv1(x)\n",
    "        x = self.conv2(x)\n",
    "        \n",
    "        #Flatten\n",
    "        x = x.view(-1,self.hidden_size*9*12)\n",
    "        \n",
    "        #LSTM\n",
    "        x,_ = self.lstm(x)\n",
    "        \n",
    "        #Output Layer\n",
    "        return self.fc(x)"
   ]
  },
  {
   "cell_type": "code",
   "execution_count": 13,
   "id": "e690e737",
   "metadata": {
    "ExecuteTime": {
     "end_time": "2022-12-14T17:45:56.242560Z",
     "start_time": "2022-12-14T17:45:53.672385Z"
    },
    "code_folding": [],
    "scrolled": false
   },
   "outputs": [
    {
     "name": "stdout",
     "output_type": "stream",
     "text": [
      "Training: 0     \r",
      "torch.Size([1, 284])\n",
      "torch.Size([2])\n"
     ]
    },
    {
     "ename": "ValueError",
     "evalue": "Expected input batch_size (1) to match target batch_size (2).",
     "output_type": "error",
     "traceback": [
      "\u001b[1;31m---------------------------------------------------------------------------\u001b[0m",
      "\u001b[1;31mValueError\u001b[0m                                Traceback (most recent call last)",
      "\u001b[1;32mC:\\Users\\GABRIE~1\\AppData\\Local\\Temp/ipykernel_21208/2210263948.py\u001b[0m in \u001b[0;36m<module>\u001b[1;34m\u001b[0m\n\u001b[0;32m     30\u001b[0m         \u001b[0mprint\u001b[0m\u001b[1;33m(\u001b[0m\u001b[0mlabels\u001b[0m\u001b[1;33m.\u001b[0m\u001b[0mshape\u001b[0m\u001b[1;33m)\u001b[0m\u001b[1;33m\u001b[0m\u001b[1;33m\u001b[0m\u001b[0m\n\u001b[0;32m     31\u001b[0m \u001b[1;33m\u001b[0m\u001b[0m\n\u001b[1;32m---> 32\u001b[1;33m         error = torch.nn.functional.cross_entropy(\n\u001b[0m\u001b[0;32m     33\u001b[0m             model(inputs), labels)\n\u001b[0;32m     34\u001b[0m \u001b[1;33m\u001b[0m\u001b[0m\n",
      "\u001b[1;32m~\\anaconda3\\lib\\site-packages\\torch\\nn\\functional.py\u001b[0m in \u001b[0;36mcross_entropy\u001b[1;34m(input, target, weight, size_average, ignore_index, reduce, reduction, label_smoothing)\u001b[0m\n\u001b[0;32m   3012\u001b[0m     \u001b[1;32mif\u001b[0m \u001b[0msize_average\u001b[0m \u001b[1;32mis\u001b[0m \u001b[1;32mnot\u001b[0m \u001b[1;32mNone\u001b[0m \u001b[1;32mor\u001b[0m \u001b[0mreduce\u001b[0m \u001b[1;32mis\u001b[0m \u001b[1;32mnot\u001b[0m \u001b[1;32mNone\u001b[0m\u001b[1;33m:\u001b[0m\u001b[1;33m\u001b[0m\u001b[1;33m\u001b[0m\u001b[0m\n\u001b[0;32m   3013\u001b[0m         \u001b[0mreduction\u001b[0m \u001b[1;33m=\u001b[0m \u001b[0m_Reduction\u001b[0m\u001b[1;33m.\u001b[0m\u001b[0mlegacy_get_string\u001b[0m\u001b[1;33m(\u001b[0m\u001b[0msize_average\u001b[0m\u001b[1;33m,\u001b[0m \u001b[0mreduce\u001b[0m\u001b[1;33m)\u001b[0m\u001b[1;33m\u001b[0m\u001b[1;33m\u001b[0m\u001b[0m\n\u001b[1;32m-> 3014\u001b[1;33m     \u001b[1;32mreturn\u001b[0m \u001b[0mtorch\u001b[0m\u001b[1;33m.\u001b[0m\u001b[0m_C\u001b[0m\u001b[1;33m.\u001b[0m\u001b[0m_nn\u001b[0m\u001b[1;33m.\u001b[0m\u001b[0mcross_entropy_loss\u001b[0m\u001b[1;33m(\u001b[0m\u001b[0minput\u001b[0m\u001b[1;33m,\u001b[0m \u001b[0mtarget\u001b[0m\u001b[1;33m,\u001b[0m \u001b[0mweight\u001b[0m\u001b[1;33m,\u001b[0m \u001b[0m_Reduction\u001b[0m\u001b[1;33m.\u001b[0m\u001b[0mget_enum\u001b[0m\u001b[1;33m(\u001b[0m\u001b[0mreduction\u001b[0m\u001b[1;33m)\u001b[0m\u001b[1;33m,\u001b[0m \u001b[0mignore_index\u001b[0m\u001b[1;33m,\u001b[0m \u001b[0mlabel_smoothing\u001b[0m\u001b[1;33m)\u001b[0m\u001b[1;33m\u001b[0m\u001b[1;33m\u001b[0m\u001b[0m\n\u001b[0m\u001b[0;32m   3015\u001b[0m \u001b[1;33m\u001b[0m\u001b[0m\n\u001b[0;32m   3016\u001b[0m \u001b[1;33m\u001b[0m\u001b[0m\n",
      "\u001b[1;31mValueError\u001b[0m: Expected input batch_size (1) to match target batch_size (2)."
     ]
    }
   ],
   "source": [
    "#Free up memory\n",
    "torch.cuda.empty_cache()\n",
    "\n",
    "#Initialise model\n",
    "model = Model(hidden_size=128, num_speakers=num_speakers, k=3)\n",
    "model.to(device)\n",
    "\n",
    "optimiser = torch.optim.AdamW(model.parameters())\n",
    "\n",
    "mbt = 0 #The number of Mini-batches Trained (mbt) on.\n",
    "train_errors = []\n",
    "val_errors   = []\n",
    "\n",
    "\n",
    "for step in range(10):\n",
    "    \n",
    "    #Train on mini-batches.\n",
    "    for i, (inputs, labels) in enumerate(train_loader):\n",
    "        \n",
    "        print(f'Training: {i}     ', end='\\r')\n",
    "        \n",
    "        #Pass tesors tensors to GPU\n",
    "        inputs = inputs.to(device)\n",
    "        labels = labels.to(device)\n",
    "        \n",
    "        #Pass batch.\n",
    "        optimiser.zero_grad()\n",
    "        \n",
    "        print(model(inputs).shape)\n",
    "        print(labels.shape)\n",
    "        \n",
    "        error = torch.nn.functional.cross_entropy(\n",
    "            model(inputs), labels)\n",
    "        \n",
    "        #Optimise.\n",
    "        error.backward()\n",
    "        optimiser.step()      \n",
    "        \n",
    "        #Track train loss every mini-batch.\n",
    "        train_errors.append((mbt := mbt+1), error.tolist())\n",
    "\n",
    "    #Validate on mini-batches.\n",
    "    with torch.no_grad():\n",
    "        \n",
    "        val_error = 0\n",
    "        \n",
    "        for j, (val_inputs, val_labels) in enumerate(val_loader):\n",
    "            \n",
    "            print(f'Validating: {j}   ', end='\\r')\n",
    "            \n",
    "            val_error += torch.nn.functional.cross_entropy(\n",
    "                            model(val_inputs), val_labels).tolist()\n",
    "        \n",
    "        #Track validate loss as average of all mini-batches.\n",
    "        val_errors.append(mbt, (val_error/(j+1)))"
   ]
  },
  {
   "cell_type": "code",
   "execution_count": null,
   "id": "ead77d43",
   "metadata": {
    "ExecuteTime": {
     "end_time": "2022-12-14T17:42:44.403873Z",
     "start_time": "2022-12-14T17:42:44.403873Z"
    }
   },
   "outputs": [],
   "source": [
    "x = torch.rand([4,128,60,80])\n",
    "x = x.view(-1,128*60*80)\n"
   ]
  },
  {
   "cell_type": "code",
   "execution_count": null,
   "id": "8b0d55bd",
   "metadata": {
    "ExecuteTime": {
     "end_time": "2022-12-14T17:42:44.404873Z",
     "start_time": "2022-12-14T17:42:44.404873Z"
    }
   },
   "outputs": [],
   "source": [
    "images,labels = iter(train_loader).next()\n",
    "imshow(torchvision.utils.make_grid(images))\n",
    "[speakers[i] for i in labels.tolist()]"
   ]
  },
  {
   "cell_type": "code",
   "execution_count": null,
   "id": "674be804",
   "metadata": {
    "ExecuteTime": {
     "end_time": "2022-12-14T17:42:44.405873Z",
     "start_time": "2022-12-14T17:42:44.405873Z"
    },
    "scrolled": false
   },
   "outputs": [],
   "source": [
    "import multiprocessing\n",
    "multiprocessing.cpu_count()"
   ]
  }
 ],
 "metadata": {
  "kernelspec": {
   "display_name": "Python [conda env:root] *",
   "language": "python",
   "name": "conda-root-py"
  },
  "language_info": {
   "codemirror_mode": {
    "name": "ipython",
    "version": 3
   },
   "file_extension": ".py",
   "mimetype": "text/x-python",
   "name": "python",
   "nbconvert_exporter": "python",
   "pygments_lexer": "ipython3",
   "version": "3.9.7"
  },
  "toc": {
   "base_numbering": 1,
   "nav_menu": {},
   "number_sections": true,
   "sideBar": true,
   "skip_h1_title": false,
   "title_cell": "Table of Contents",
   "title_sidebar": "Contents",
   "toc_cell": false,
   "toc_position": {},
   "toc_section_display": true,
   "toc_window_display": false
  }
 },
 "nbformat": 4,
 "nbformat_minor": 5
}
