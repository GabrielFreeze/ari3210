{
 "cells": [
  {
   "cell_type": "markdown",
   "id": "fa73acf5",
   "metadata": {},
   "source": [
    "# Data Preprocessing"
   ]
  },
  {
   "cell_type": "code",
   "execution_count": null,
   "id": "d727df4c",
   "metadata": {
    "ExecuteTime": {
     "end_time": "2022-12-14T15:34:15.166844Z",
     "start_time": "2022-12-14T15:34:15.152844Z"
    }
   },
   "outputs": [],
   "source": [
    "%%html\n",
    "<style type='text/css'>\n",
    ".CodeMirror{\n",
    "font-family: JetBrains Mono;\n",
    "</style>"
   ]
  },
  {
   "cell_type": "code",
   "execution_count": null,
   "id": "4fdb95eb",
   "metadata": {
    "ExecuteTime": {
     "end_time": "2022-12-14T15:34:16.773809Z",
     "start_time": "2022-12-14T15:34:15.167844Z"
    }
   },
   "outputs": [],
   "source": [
    "import os\n",
    "import pylab\n",
    "import librosa\n",
    "import warnings \n",
    "import numpy as np\n",
    "import pandas as pd\n",
    "import multiprocessing\n",
    "import librosa.display\n",
    "import matplotlib.pyplot as plt\n",
    "\n",
    "warnings.filterwarnings('ignore')"
   ]
  },
  {
   "cell_type": "code",
   "execution_count": null,
   "id": "c5b64842",
   "metadata": {
    "ExecuteTime": {
     "end_time": "2022-12-14T15:34:16.789809Z",
     "start_time": "2022-12-14T15:34:16.775809Z"
    },
    "code_folding": [
     5,
     19,
     23,
     39
    ]
   },
   "outputs": [],
   "source": [
    "N_MELS = 256\n",
    "MEL_SPEC_FRAME_SIZE = 1024\n",
    "SAMPLING_RATE = 16_000\n",
    "\n",
    "\n",
    "def get_speaker_paths(datapath: str) -> list[str]:\n",
    "    speaker_list = []\n",
    "    accent_subfolders = [f.path for f in os.scandir(datapath) if f.is_dir()]\n",
    "\n",
    "    for accent in accent_subfolders:\n",
    "        for gender in ['female', 'male']:\n",
    "            for speaker in os.listdir(os.path.join(accent, gender)):\n",
    "\n",
    "                if not speaker.startswith('.'):\n",
    "                    speaker_list.append((speaker,os.path.join(accent, gender, speaker)))\n",
    "\n",
    "    return speaker_list\n",
    "\n",
    "\n",
    "def get_wav_files(datapath: str) -> list[str]:\n",
    "    return [file for file in os.listdir(datapath) if file.endswith('.wav')]\n",
    "\n",
    "\n",
    "def plot_melspec(melspec, fs):\n",
    "    plt.figure(figsize=(20, 8))\n",
    "    plt.xlabel('Time')\n",
    "    plt.ylabel('Mel-Frequency')\n",
    "    librosa.display.specshow(melspec,\n",
    "                             y_axis='mel',\n",
    "                             fmax=fs / 2,\n",
    "                             sr=fs,\n",
    "                             hop_length=int(MEL_SPEC_FRAME_SIZE / 2),\n",
    "                             x_axis='time')\n",
    "    plt.colorbar(format='%+2.0f dB')\n",
    "    plt.title('Mel Spectrogram')\n",
    "    plt.tight_layout()\n",
    "    plt.show()\n",
    "\n",
    "\n",
    "def mel_spectogram_chunks(wavfile_path: str, chunk_seconds: float,\n",
    "                          plot: bool = False) -> (librosa.feature.melspectrogram):\n",
    "\n",
    "    # Load .wav file\n",
    "    sig, fs = librosa.load(wavfile_path, sr=SAMPLING_RATE)\n",
    "\n",
    "    # Normalise between [-1,1]\n",
    "    sig /= np.max(np.abs(sig), axis=0)\n",
    "\n",
    "    # Determine the number of chunk samples\n",
    "    samples = fs*chunk_seconds if chunk_seconds else len(sig)\n",
    "    samples_elapsed = 0\n",
    "    \n",
    "    melspec_chunks = []\n",
    "    \n",
    "    while samples_elapsed < len(sig):\n",
    "        melspec = librosa.feature.melspectrogram(y=sig[samples_elapsed:(samples_elapsed + samples)],\n",
    "                                                 sr=fs,\n",
    "                                                 center=True,\n",
    "                                                 n_fft=MEL_SPEC_FRAME_SIZE,\n",
    "                                                 hop_length=int(\n",
    "                                                     MEL_SPEC_FRAME_SIZE / 2),\n",
    "                                                 n_mels=N_MELS)\n",
    "        melspec = librosa.power_to_db(melspec, ref=np.max)\n",
    "        melspec_chunks.append(melspec)\n",
    "        samples_elapsed += samples\n",
    "    \n",
    "    return melspec_chunks\n"
   ]
  },
  {
   "cell_type": "code",
   "execution_count": null,
   "id": "5551b5e2",
   "metadata": {
    "ExecuteTime": {
     "end_time": "2022-12-14T15:34:16.805809Z",
     "start_time": "2022-12-14T15:34:16.790811Z"
    }
   },
   "outputs": [],
   "source": [
    "# For loop that goes through the relative paths of every .wav file\n",
    "corpus_path = '..\\\\corpus'\n",
    "\n",
    "speaker_path = get_speaker_paths(corpus_path)"
   ]
  },
  {
   "cell_type": "markdown",
   "id": "94be5a85",
   "metadata": {},
   "source": [
    "## Create 3 second melspectrogram images of every speaker wavelength."
   ]
  },
  {
   "cell_type": "code",
   "execution_count": null,
   "id": "91a97072",
   "metadata": {
    "ExecuteTime": {
     "end_time": "2022-12-14T15:34:16.866808Z",
     "start_time": "2022-12-14T15:34:16.806810Z"
    }
   },
   "outputs": [],
   "source": [
    "#For every speaker create a folder\n",
    "\n",
    "folder = os.path.join('..','data')\n",
    "\n",
    "try: os.mkdir(folder)    \n",
    "except: pass\n",
    "\n",
    "for speaker,_ in speaker_path:\n",
    "    try:os.mkdir(os.path.join(folder,speaker))\n",
    "    except: pass"
   ]
  },
  {
   "cell_type": "code",
   "execution_count": null,
   "id": "5d2c2d98",
   "metadata": {
    "ExecuteTime": {
     "end_time": "2022-12-14T15:42:14.287722Z",
     "start_time": "2022-12-14T15:34:16.867811Z"
    },
    "code_folding": []
   },
   "outputs": [],
   "source": [
    "pylab.axis('off') #Remove Axis\n",
    "pylab.axes([0., 0., 1., 1.], frameon=False, xticks=[], yticks=[]) #Remove white padding\n",
    "\n",
    "count = {speaker:0 for speaker,_ in speaker_path}\n",
    "\n",
    "#For every speaker\n",
    "for i,(speaker, path) in enumerate(speaker_path):\n",
    "    \n",
    "   \n",
    "    #For every .wav file for that speaker\n",
    "    for file in get_wav_files(path):\n",
    "    \n",
    "        #Get path to .wav file\n",
    "        filepath = os.path.join(path,file)\n",
    "        \n",
    "        # Slice into 3 seconds chunks\n",
    "        mel_chunks = mel_spectogram_chunks(wavfile_path=filepath, chunk_seconds=3, plot=True)\n",
    "\n",
    "        # Remove last item because it is not 3 seconds.\n",
    "        mel_chunks = mel_chunks[:-1]\n",
    "        \n",
    "        #Save every 3 second chunk into an image in the respect speaker folder\n",
    "        for i,mel in enumerate(mel_chunks):\n",
    "            print(f'{speaker} - {file}: {str(i+1).zfill(3)}                                    ',end='\\r')\n",
    "            \n",
    "            plt.clf() #Important. Without this time to save plot grows linearly.\n",
    "            pylab.axis('off') #Remove Axis\n",
    "            pylab.axes([0., 0., 1., 1.], frameon=False, xticks=[], yticks=[]) #Remove white padding\n",
    "        \n",
    "            count[speaker] += 1\n",
    "            save_path = os.path.join(folder,speaker,f'{str(count[speaker]).zfill(3)}.jpg')\n",
    "            \n",
    "            librosa.display.specshow(mel)\n",
    "        \n",
    "            pylab.savefig(save_path, bbox_inches=None, pad_inches=0, dpi=15) #Save Image  \n",
    "            \n"
   ]
  },
  {
   "cell_type": "markdown",
   "id": "91d14ba8",
   "metadata": {},
   "source": [
    "## For every speaker, perform train/val/test split and save in respective folders."
   ]
  },
  {
   "cell_type": "code",
   "execution_count": null,
   "id": "2d9f82c1",
   "metadata": {
    "ExecuteTime": {
     "end_time": "2022-12-14T15:42:14.288660Z",
     "start_time": "2022-12-14T15:42:14.288660Z"
    }
   },
   "outputs": [],
   "source": [
    "#For every split create a folder\n",
    "\n",
    "folder = os.path.join('..','data')\n",
    "\n",
    "for split in ['train','val','test']:\n",
    "    try:os.mkdir(os.path.join(folder,split))\n",
    "    except: pass\n",
    "    \n",
    "    \n",
    "    for speaker,_ in speaker_path:\n",
    "        try: os.mkdir(os.path.join(folder,split,speaker))\n",
    "        except: pass"
   ]
  },
  {
   "cell_type": "code",
   "execution_count": null,
   "id": "d0229647",
   "metadata": {
    "ExecuteTime": {
     "end_time": "2022-12-14T15:42:14.289660Z",
     "start_time": "2022-12-14T15:42:14.289660Z"
    },
    "scrolled": true
   },
   "outputs": [],
   "source": [
    "#Perform the split by moving (75%,15%,15%) from every speaker folder\n",
    "#to the respective folder in the split\n",
    "\n",
    "for speaker in os.listdir(folder):\n",
    "    \n",
    "    if speaker in ['train','val','test']:\n",
    "        continue\n",
    "    \n",
    "    \n",
    "    #Create a shuffled list of all image names in speaker\n",
    "    random.shuffle(idx := [name for name in os.listdir(os.path.join(folder,speaker))])\n",
    "    \n",
    "    \n",
    "    _80 = int(len(idx)*0.75)\n",
    "    _10 = int(len(idx)*0.15)\n",
    "    \n",
    "    #Move first 80% to train/speaker\n",
    "    for file in idx[:_80]:\n",
    "        os.replace(os.path.join(folder,speaker,file),\n",
    "                   os.path.join(folder,'train',speaker,file))\n",
    "        \n",
    "    #Move second 10% to train/speaker\n",
    "    for file in idx[_80:-_10]:\n",
    "        os.replace(os.path.join(folder,speaker,file),\n",
    "                   os.path.join(folder,'val',speaker,file))\n",
    "        \n",
    "    #Move last 10% to test/speaker\n",
    "    for file in idx[-_10:]:\n",
    "        os.replace(os.path.join(folder,speaker,file),\n",
    "                   os.path.join(folder,'test',speaker,file))\n",
    "\n",
    "\n",
    "        #Finally remove all the empty speaker folders\n",
    "for speaker,_ in speaker_path:\n",
    "    try: os.rmdir(os.path.join(folder,speaker))\n",
    "    except: pass\n",
    "   "
   ]
  }
 ],
 "metadata": {
  "kernelspec": {
   "display_name": "Python [conda env:root] *",
   "language": "python",
   "name": "conda-root-py"
  },
  "language_info": {
   "codemirror_mode": {
    "name": "ipython",
    "version": 3
   },
   "file_extension": ".py",
   "mimetype": "text/x-python",
   "name": "python",
   "nbconvert_exporter": "python",
   "pygments_lexer": "ipython3",
   "version": "3.9.7"
  },
  "toc": {
   "base_numbering": 1,
   "nav_menu": {},
   "number_sections": true,
   "sideBar": true,
   "skip_h1_title": false,
   "title_cell": "Table of Contents",
   "title_sidebar": "Contents",
   "toc_cell": false,
   "toc_position": {},
   "toc_section_display": true,
   "toc_window_display": false
  }
 },
 "nbformat": 4,
 "nbformat_minor": 5
}
